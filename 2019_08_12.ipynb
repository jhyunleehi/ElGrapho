{
  "nbformat": 4,
  "nbformat_minor": 0,
  "metadata": {
    "colab": {
      "name": "2019.08.12.ipynb",
      "version": "0.3.2",
      "provenance": [],
      "include_colab_link": true
    },
    "kernelspec": {
      "name": "python3",
      "display_name": "Python 3"
    }
  },
  "cells": [
    {
      "cell_type": "markdown",
      "metadata": {
        "id": "view-in-github",
        "colab_type": "text"
      },
      "source": [
        "<a href=\"https://colab.research.google.com/github/jhyunleehi/ElGrapho/blob/master/2019_08_12.ipynb\" target=\"_parent\"><img src=\"https://colab.research.google.com/assets/colab-badge.svg\" alt=\"Open In Colab\"/></a>"
      ]
    },
    {
      "cell_type": "code",
      "metadata": {
        "id": "KOuXXY4V6OfZ",
        "colab_type": "code",
        "colab": {
          "base_uri": "https://localhost:8080/",
          "height": 272
        },
        "outputId": "c69b0fa0-d947-4d1a-8db6-e5d59e1365d1"
      },
      "source": [
        "import tensorflow as tf\n",
        "import numpy as np\n",
        "x1=[1,2,3,4,5]\n",
        "x2 =[1,2,3,4,5]\n",
        "x3=[1,2,3,4,5]\n",
        "y=[10,20,30,40,50]\n",
        "\n",
        "X=np.array([1,2,3])\n",
        "Y=np.array([1,2,3])\n",
        "\n",
        "def cost_func(W, X, Y):\n",
        "  c=0\n",
        "  for i in range(len(X)):\n",
        "    c += (W*X[i] -Y[i]) **2\n",
        "  return c/ len(X)\n",
        "\n",
        "for feed_W in np.linspace(-3, 5, num=15):\n",
        "  curr_cost = cost_func(feed_W, X,Y)\n",
        "  print(\"{:6.3f} | {:10.5f}\".format(feed_W, curr_cost))    "
      ],
      "execution_count": 4,
      "outputs": [
        {
          "output_type": "stream",
          "text": [
            "-3.000 |   74.66667\n",
            "-2.429 |   54.85714\n",
            "-1.857 |   38.09524\n",
            "-1.286 |   24.38095\n",
            "-0.714 |   13.71429\n",
            "-0.143 |    6.09524\n",
            " 0.429 |    1.52381\n",
            " 1.000 |    0.00000\n",
            " 1.571 |    1.52381\n",
            " 2.143 |    6.09524\n",
            " 2.714 |   13.71429\n",
            " 3.286 |   24.38095\n",
            " 3.857 |   38.09524\n",
            " 4.429 |   54.85714\n",
            " 5.000 |   74.66667\n"
          ],
          "name": "stdout"
        }
      ]
    }
  ]
}